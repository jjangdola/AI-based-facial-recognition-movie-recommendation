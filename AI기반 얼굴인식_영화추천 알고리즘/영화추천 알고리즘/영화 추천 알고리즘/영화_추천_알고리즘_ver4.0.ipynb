{
  "cells": [
    {
      "cell_type": "markdown",
      "metadata": {
        "id": "h2nO-uQnGXDT"
      },
      "source": [
        "영화 추천"
      ]
    },
    {
      "cell_type": "code",
      "execution_count": null,
      "metadata": {
        "id": "-v8ChHm8GVTK"
      },
      "outputs": [],
      "source": [
        "#파일 직접 업로드하기\n",
        "#from google.colab import files\n",
        "#myfile = files.upload()"
      ]
    },
    {
      "cell_type": "code",
      "execution_count": null,
      "metadata": {
        "id": "ISd5Tr4yGnOx"
      },
      "outputs": [],
      "source": [
        "#io와 pandas 모듈 import\n",
        "import io\n",
        "import pandas as pd"
      ]
    },
    {
      "cell_type": "code",
      "execution_count": null,
      "metadata": {
        "colab": {
          "base_uri": "https://localhost:8080/",
          "height": 206
        },
        "id": "B3GJ-PLWGqCw",
        "outputId": "c5fe5963-6ad7-4e7b-ba5f-56f15f2c0f5d"
      },
      "outputs": [
        {
          "output_type": "execute_result",
          "data": {
            "text/plain": [
              "                  영화명   유형         장르  제작년도    감독  \\\n",
              "0  두 번의 결혼식과 한 번의 장례식  극영화        코메디  2012  김조광수   \n",
              "1                돈의 맛  극영화        드라마  2012   임상수   \n",
              "2          내 아내의 모든 것  극영화  멜로드라마,코메디  2012   민규동   \n",
              "3            할머니는 1학년  극영화     드라마,가족  2012   진광교   \n",
              "4         유치원생 성폭력 예방  극영화        드라마  2012   김영한   \n",
              "\n",
              "                                               actor  \n",
              "0        김동윤,류현경,송용진,정애연,박정표,박수영,이승준,김준범,한승도,장세현,김호연  \n",
              "1  김강우,윤여정,백윤식,김효진,온주완,마우이 테일러 ,달시 파켓,황정민,권병길,갈소원...  \n",
              "2  임수정,이선균,류승룡,이광수,김효준,이도아,김보궁,염해란,이새로미,이진희,김선하,세...  \n",
              "3  김진구,신채연,팜끼우투,김경애,김광식,김일구,황원오,백애경,조호천,장병표,유다은,문...  \n",
              "4                                                윤혜란  "
            ],
            "text/html": [
              "\n",
              "  <div id=\"df-2d4f5a43-3cd7-4af2-b317-9d8398cc6385\">\n",
              "    <div class=\"colab-df-container\">\n",
              "      <div>\n",
              "<style scoped>\n",
              "    .dataframe tbody tr th:only-of-type {\n",
              "        vertical-align: middle;\n",
              "    }\n",
              "\n",
              "    .dataframe tbody tr th {\n",
              "        vertical-align: top;\n",
              "    }\n",
              "\n",
              "    .dataframe thead th {\n",
              "        text-align: right;\n",
              "    }\n",
              "</style>\n",
              "<table border=\"1\" class=\"dataframe\">\n",
              "  <thead>\n",
              "    <tr style=\"text-align: right;\">\n",
              "      <th></th>\n",
              "      <th>영화명</th>\n",
              "      <th>유형</th>\n",
              "      <th>장르</th>\n",
              "      <th>제작년도</th>\n",
              "      <th>감독</th>\n",
              "      <th>actor</th>\n",
              "    </tr>\n",
              "  </thead>\n",
              "  <tbody>\n",
              "    <tr>\n",
              "      <th>0</th>\n",
              "      <td>두 번의 결혼식과 한 번의 장례식</td>\n",
              "      <td>극영화</td>\n",
              "      <td>코메디</td>\n",
              "      <td>2012</td>\n",
              "      <td>김조광수</td>\n",
              "      <td>김동윤,류현경,송용진,정애연,박정표,박수영,이승준,김준범,한승도,장세현,김호연</td>\n",
              "    </tr>\n",
              "    <tr>\n",
              "      <th>1</th>\n",
              "      <td>돈의 맛</td>\n",
              "      <td>극영화</td>\n",
              "      <td>드라마</td>\n",
              "      <td>2012</td>\n",
              "      <td>임상수</td>\n",
              "      <td>김강우,윤여정,백윤식,김효진,온주완,마우이 테일러 ,달시 파켓,황정민,권병길,갈소원...</td>\n",
              "    </tr>\n",
              "    <tr>\n",
              "      <th>2</th>\n",
              "      <td>내 아내의 모든 것</td>\n",
              "      <td>극영화</td>\n",
              "      <td>멜로드라마,코메디</td>\n",
              "      <td>2012</td>\n",
              "      <td>민규동</td>\n",
              "      <td>임수정,이선균,류승룡,이광수,김효준,이도아,김보궁,염해란,이새로미,이진희,김선하,세...</td>\n",
              "    </tr>\n",
              "    <tr>\n",
              "      <th>3</th>\n",
              "      <td>할머니는 1학년</td>\n",
              "      <td>극영화</td>\n",
              "      <td>드라마,가족</td>\n",
              "      <td>2012</td>\n",
              "      <td>진광교</td>\n",
              "      <td>김진구,신채연,팜끼우투,김경애,김광식,김일구,황원오,백애경,조호천,장병표,유다은,문...</td>\n",
              "    </tr>\n",
              "    <tr>\n",
              "      <th>4</th>\n",
              "      <td>유치원생 성폭력 예방</td>\n",
              "      <td>극영화</td>\n",
              "      <td>드라마</td>\n",
              "      <td>2012</td>\n",
              "      <td>김영한</td>\n",
              "      <td>윤혜란</td>\n",
              "    </tr>\n",
              "  </tbody>\n",
              "</table>\n",
              "</div>\n",
              "      <button class=\"colab-df-convert\" onclick=\"convertToInteractive('df-2d4f5a43-3cd7-4af2-b317-9d8398cc6385')\"\n",
              "              title=\"Convert this dataframe to an interactive table.\"\n",
              "              style=\"display:none;\">\n",
              "        \n",
              "  <svg xmlns=\"http://www.w3.org/2000/svg\" height=\"24px\"viewBox=\"0 0 24 24\"\n",
              "       width=\"24px\">\n",
              "    <path d=\"M0 0h24v24H0V0z\" fill=\"none\"/>\n",
              "    <path d=\"M18.56 5.44l.94 2.06.94-2.06 2.06-.94-2.06-.94-.94-2.06-.94 2.06-2.06.94zm-11 1L8.5 8.5l.94-2.06 2.06-.94-2.06-.94L8.5 2.5l-.94 2.06-2.06.94zm10 10l.94 2.06.94-2.06 2.06-.94-2.06-.94-.94-2.06-.94 2.06-2.06.94z\"/><path d=\"M17.41 7.96l-1.37-1.37c-.4-.4-.92-.59-1.43-.59-.52 0-1.04.2-1.43.59L10.3 9.45l-7.72 7.72c-.78.78-.78 2.05 0 2.83L4 21.41c.39.39.9.59 1.41.59.51 0 1.02-.2 1.41-.59l7.78-7.78 2.81-2.81c.8-.78.8-2.07 0-2.86zM5.41 20L4 18.59l7.72-7.72 1.47 1.35L5.41 20z\"/>\n",
              "  </svg>\n",
              "      </button>\n",
              "      \n",
              "  <style>\n",
              "    .colab-df-container {\n",
              "      display:flex;\n",
              "      flex-wrap:wrap;\n",
              "      gap: 12px;\n",
              "    }\n",
              "\n",
              "    .colab-df-convert {\n",
              "      background-color: #E8F0FE;\n",
              "      border: none;\n",
              "      border-radius: 50%;\n",
              "      cursor: pointer;\n",
              "      display: none;\n",
              "      fill: #1967D2;\n",
              "      height: 32px;\n",
              "      padding: 0 0 0 0;\n",
              "      width: 32px;\n",
              "    }\n",
              "\n",
              "    .colab-df-convert:hover {\n",
              "      background-color: #E2EBFA;\n",
              "      box-shadow: 0px 1px 2px rgba(60, 64, 67, 0.3), 0px 1px 3px 1px rgba(60, 64, 67, 0.15);\n",
              "      fill: #174EA6;\n",
              "    }\n",
              "\n",
              "    [theme=dark] .colab-df-convert {\n",
              "      background-color: #3B4455;\n",
              "      fill: #D2E3FC;\n",
              "    }\n",
              "\n",
              "    [theme=dark] .colab-df-convert:hover {\n",
              "      background-color: #434B5C;\n",
              "      box-shadow: 0px 1px 3px 1px rgba(0, 0, 0, 0.15);\n",
              "      filter: drop-shadow(0px 1px 2px rgba(0, 0, 0, 0.3));\n",
              "      fill: #FFFFFF;\n",
              "    }\n",
              "  </style>\n",
              "\n",
              "      <script>\n",
              "        const buttonEl =\n",
              "          document.querySelector('#df-2d4f5a43-3cd7-4af2-b317-9d8398cc6385 button.colab-df-convert');\n",
              "        buttonEl.style.display =\n",
              "          google.colab.kernel.accessAllowed ? 'block' : 'none';\n",
              "\n",
              "        async function convertToInteractive(key) {\n",
              "          const element = document.querySelector('#df-2d4f5a43-3cd7-4af2-b317-9d8398cc6385');\n",
              "          const dataTable =\n",
              "            await google.colab.kernel.invokeFunction('convertToInteractive',\n",
              "                                                     [key], {});\n",
              "          if (!dataTable) return;\n",
              "\n",
              "          const docLinkHtml = 'Like what you see? Visit the ' +\n",
              "            '<a target=\"_blank\" href=https://colab.research.google.com/notebooks/data_table.ipynb>data table notebook</a>'\n",
              "            + ' to learn more about interactive tables.';\n",
              "          element.innerHTML = '';\n",
              "          dataTable['output_type'] = 'display_data';\n",
              "          await google.colab.output.renderOutput(dataTable, element);\n",
              "          const docLink = document.createElement('div');\n",
              "          docLink.innerHTML = docLinkHtml;\n",
              "          element.appendChild(docLink);\n",
              "        }\n",
              "      </script>\n",
              "    </div>\n",
              "  </div>\n",
              "  "
            ]
          },
          "metadata": {},
          "execution_count": 3
        }
      ],
      "source": [
        "#pd.read_csv로 csv파일 불러오기\n",
        "df = pd.read_csv('moviedata-new.csv',encoding='euc=kr')\n",
        "df.head()"
      ]
    },
    {
      "cell_type": "code",
      "execution_count": null,
      "metadata": {
        "colab": {
          "base_uri": "https://localhost:8080/",
          "height": 36
        },
        "id": "UfSfKzNxUAi4",
        "outputId": "6fa26f49-3049-4202-f17f-213fc121f00a"
      },
      "outputs": [
        {
          "output_type": "execute_result",
          "data": {
            "text/plain": [
              "'김동윤,류현경,송용진,정애연,박정표,박수영,이승준,김준범,한승도,장세현,김호연'"
            ],
            "application/vnd.google.colaboratory.intrinsic+json": {
              "type": "string"
            }
          },
          "metadata": {},
          "execution_count": 4
        }
      ],
      "source": [
        "df.loc[0, 'actor']"
      ]
    },
    {
      "cell_type": "code",
      "execution_count": null,
      "metadata": {
        "id": "HsB6lJDwHuVP"
      },
      "outputs": [],
      "source": [
        "s1='김동윤,류현경,송용진,정애연,박정표,박수영,이승준,김준범,한승도,장세현,김호연'"
      ]
    },
    {
      "cell_type": "code",
      "execution_count": null,
      "metadata": {
        "colab": {
          "base_uri": "https://localhost:8080/"
        },
        "id": "GwsELLhCHvcV",
        "outputId": "c9adbd23-8b3f-42c8-ca6b-cdd01760ed3b"
      },
      "outputs": [
        {
          "output_type": "stream",
          "name": "stdout",
          "text": [
            "['김동윤', '류현경', '송용진', '정애연', '박정표', '박수영', '이승준', '김준범', '한승도', '장세현', '김호연']\n"
          ]
        }
      ],
      "source": [
        "#split함수를 통해 배우를 하나씩 분리하도록 하기\n",
        "\n",
        "my_list = s1.split(',')\n",
        "print(my_list)"
      ]
    },
    {
      "cell_type": "code",
      "execution_count": null,
      "metadata": {
        "colab": {
          "base_uri": "https://localhost:8080/"
        },
        "id": "oWGqmtLALgly",
        "outputId": "05ef278c-80c7-4fc7-f4f1-7b110b7f5437"
      },
      "outputs": [
        {
          "output_type": "execute_result",
          "data": {
            "text/plain": [
              "(str, list)"
            ]
          },
          "metadata": {},
          "execution_count": 7
        }
      ],
      "source": [
        "type(df.loc[0, 'actor']),type(my_list)"
      ]
    },
    {
      "cell_type": "code",
      "execution_count": null,
      "metadata": {
        "colab": {
          "base_uri": "https://localhost:8080/"
        },
        "id": "JiQ0Ecc7Hw9m",
        "outputId": "38d8f77b-964d-4906-8c93-5f0eb5e187ba"
      },
      "outputs": [
        {
          "output_type": "stream",
          "name": "stdout",
          "text": [
            "두 번의 결혼식과 한 번의 장례식\n"
          ]
        }
      ],
      "source": [
        "if '김동윤' in my_list:\n",
        "    print(df.loc[0,'영화명'])"
      ]
    },
    {
      "cell_type": "markdown",
      "source": [
        "#배우이름 split"
      ],
      "metadata": {
        "id": "KGJ28OmumLcP"
      }
    },
    {
      "cell_type": "code",
      "source": [
        "#1번째 방법"
      ],
      "metadata": {
        "id": "pLbxQ5Clnsb4"
      },
      "execution_count": null,
      "outputs": []
    },
    {
      "cell_type": "code",
      "source": [
        "#배우분할이라는 이름으로 열을 하나 더 생성\n",
        "\n",
        "for i in range(len(df['actor'])):\n",
        "  df.loc[i,'배우분할']=df.loc[i,'actor']"
      ],
      "metadata": {
        "id": "mtbXlrcKowSx"
      },
      "execution_count": null,
      "outputs": []
    },
    {
      "cell_type": "code",
      "source": [
        "#배우 분할 열이 잘 만들어 졌는지 확인\n",
        "\n",
        "df.loc[0,'배우분할']"
      ],
      "metadata": {
        "colab": {
          "base_uri": "https://localhost:8080/",
          "height": 36
        },
        "id": "_18z7qTWp4W5",
        "outputId": "68c82fe2-9d3f-4de9-8824-a3aff9cb3bb4"
      },
      "execution_count": null,
      "outputs": [
        {
          "output_type": "execute_result",
          "data": {
            "text/plain": [
              "'김동윤,류현경,송용진,정애연,박정표,박수영,이승준,김준범,한승도,장세현,김호연'"
            ],
            "application/vnd.google.colaboratory.intrinsic+json": {
              "type": "string"
            }
          },
          "metadata": {},
          "execution_count": 11
        }
      ]
    },
    {
      "cell_type": "code",
      "source": [
        "#Series 타입의 배우분할 열을 str타입으로 바꾸고 split함수 적용\n",
        "#그리고 다시 배우분할 행에 넣기\n",
        "#10번째 행까지 반복\n",
        "\n",
        "for i in range(len(df['actor'])):\n",
        "  df.at[i,'배우분할']=str(df.loc[i,'배우분할']).split(',')"
      ],
      "metadata": {
        "id": "U_ckT4Tnq3Sj"
      },
      "execution_count": null,
      "outputs": []
    },
    {
      "cell_type": "code",
      "source": [
        "#주,조연으로 나온 역할만 \n",
        "#n명까지만 자르기\n",
        "\n",
        "for i in range(len(df['actor'])):\n",
        " df.at[i,'배우분할']=df.loc[i,'배우분할'][0:10]"
      ],
      "metadata": {
        "id": "HTYYMoye9ku3"
      },
      "execution_count": null,
      "outputs": []
    },
    {
      "cell_type": "code",
      "source": [
        "#데이터가 잘 들어갔는지 확인\n",
        "\n",
        "df"
      ],
      "metadata": {
        "id": "lLE2WHKirdM_",
        "colab": {
          "base_uri": "https://localhost:8080/",
          "height": 659
        },
        "outputId": "f290500f-5cbb-4047-b2b2-8b8c4ececeaf"
      },
      "execution_count": null,
      "outputs": [
        {
          "output_type": "execute_result",
          "data": {
            "text/plain": [
              "                                     영화명   유형         장르  제작년도    감독  \\\n",
              "0                     두 번의 결혼식과 한 번의 장례식  극영화        코메디  2012  김조광수   \n",
              "1                                   돈의 맛  극영화        드라마  2012   임상수   \n",
              "2                             내 아내의 모든 것  극영화  멜로드라마,코메디  2012   민규동   \n",
              "3                               할머니는 1학년  극영화     드라마,가족  2012   진광교   \n",
              "4                            유치원생 성폭력 예방  극영화        드라마  2012   김영한   \n",
              "...                                  ...  ...        ...   ...   ...   \n",
              "8553                             조치원 해문이  극영화        드라마  2022   최양현   \n",
              "8554  Is There A Place To Buy Happiness?  극영화        드라마  2022   김운석   \n",
              "8555                             그녀가 죽었다  극영화        드라마  2022   김세휘   \n",
              "8556                                   탑  극영화        드라마  2022   홍상수   \n",
              "8557                               달짝지근해  극영화        드라마  2023    이한   \n",
              "\n",
              "                                                  actor  \\\n",
              "0           김동윤,류현경,송용진,정애연,박정표,박수영,이승준,김준범,한승도,장세현,김호연   \n",
              "1     김강우,윤여정,백윤식,김효진,온주완,마우이 테일러 ,달시 파켓,황정민,권병길,갈소원...   \n",
              "2     임수정,이선균,류승룡,이광수,김효준,이도아,김보궁,염해란,이새로미,이진희,김선하,세...   \n",
              "3     김진구,신채연,팜끼우투,김경애,김광식,김일구,황원오,백애경,조호천,장병표,유다은,문...   \n",
              "4                                                   윤혜란   \n",
              "...                                                 ...   \n",
              "8553                                    남윤호,김주연,손병호,김예령   \n",
              "8554                                        김동규,전승민,조유진   \n",
              "8555                                         변요한,신혜선,이엘   \n",
              "8556                            권해효,이혜영,송선미,조윤희,박미소,신석호   \n",
              "8557                            유해진,김희선,차인표,진선규,한선화,정다은   \n",
              "\n",
              "                                                   배우분할  \n",
              "0     [김동윤, 류현경, 송용진, 정애연, 박정표, 박수영, 이승준, 김준범, 한승도, ...  \n",
              "1     [김강우, 윤여정, 백윤식, 김효진, 온주완, 마우이 테일러 , 달시 파켓, 황정민...  \n",
              "2     [임수정, 이선균, 류승룡, 이광수, 김효준, 이도아, 김보궁, 염해란, 이새로미,...  \n",
              "3     [김진구, 신채연, 팜끼우투, 김경애, 김광식, 김일구, 황원오, 백애경, 조호천,...  \n",
              "4                                                 [윤혜란]  \n",
              "...                                                 ...  \n",
              "8553                               [남윤호, 김주연, 손병호, 김예령]  \n",
              "8554                                    [김동규, 전승민, 조유진]  \n",
              "8555                                     [변요한, 신혜선, 이엘]  \n",
              "8556                     [권해효, 이혜영, 송선미, 조윤희, 박미소, 신석호]  \n",
              "8557                     [유해진, 김희선, 차인표, 진선규, 한선화, 정다은]  \n",
              "\n",
              "[8558 rows x 7 columns]"
            ],
            "text/html": [
              "\n",
              "  <div id=\"df-b6d299d6-5268-4fac-a17a-774039d4506e\">\n",
              "    <div class=\"colab-df-container\">\n",
              "      <div>\n",
              "<style scoped>\n",
              "    .dataframe tbody tr th:only-of-type {\n",
              "        vertical-align: middle;\n",
              "    }\n",
              "\n",
              "    .dataframe tbody tr th {\n",
              "        vertical-align: top;\n",
              "    }\n",
              "\n",
              "    .dataframe thead th {\n",
              "        text-align: right;\n",
              "    }\n",
              "</style>\n",
              "<table border=\"1\" class=\"dataframe\">\n",
              "  <thead>\n",
              "    <tr style=\"text-align: right;\">\n",
              "      <th></th>\n",
              "      <th>영화명</th>\n",
              "      <th>유형</th>\n",
              "      <th>장르</th>\n",
              "      <th>제작년도</th>\n",
              "      <th>감독</th>\n",
              "      <th>actor</th>\n",
              "      <th>배우분할</th>\n",
              "    </tr>\n",
              "  </thead>\n",
              "  <tbody>\n",
              "    <tr>\n",
              "      <th>0</th>\n",
              "      <td>두 번의 결혼식과 한 번의 장례식</td>\n",
              "      <td>극영화</td>\n",
              "      <td>코메디</td>\n",
              "      <td>2012</td>\n",
              "      <td>김조광수</td>\n",
              "      <td>김동윤,류현경,송용진,정애연,박정표,박수영,이승준,김준범,한승도,장세현,김호연</td>\n",
              "      <td>[김동윤, 류현경, 송용진, 정애연, 박정표, 박수영, 이승준, 김준범, 한승도, ...</td>\n",
              "    </tr>\n",
              "    <tr>\n",
              "      <th>1</th>\n",
              "      <td>돈의 맛</td>\n",
              "      <td>극영화</td>\n",
              "      <td>드라마</td>\n",
              "      <td>2012</td>\n",
              "      <td>임상수</td>\n",
              "      <td>김강우,윤여정,백윤식,김효진,온주완,마우이 테일러 ,달시 파켓,황정민,권병길,갈소원...</td>\n",
              "      <td>[김강우, 윤여정, 백윤식, 김효진, 온주완, 마우이 테일러 , 달시 파켓, 황정민...</td>\n",
              "    </tr>\n",
              "    <tr>\n",
              "      <th>2</th>\n",
              "      <td>내 아내의 모든 것</td>\n",
              "      <td>극영화</td>\n",
              "      <td>멜로드라마,코메디</td>\n",
              "      <td>2012</td>\n",
              "      <td>민규동</td>\n",
              "      <td>임수정,이선균,류승룡,이광수,김효준,이도아,김보궁,염해란,이새로미,이진희,김선하,세...</td>\n",
              "      <td>[임수정, 이선균, 류승룡, 이광수, 김효준, 이도아, 김보궁, 염해란, 이새로미,...</td>\n",
              "    </tr>\n",
              "    <tr>\n",
              "      <th>3</th>\n",
              "      <td>할머니는 1학년</td>\n",
              "      <td>극영화</td>\n",
              "      <td>드라마,가족</td>\n",
              "      <td>2012</td>\n",
              "      <td>진광교</td>\n",
              "      <td>김진구,신채연,팜끼우투,김경애,김광식,김일구,황원오,백애경,조호천,장병표,유다은,문...</td>\n",
              "      <td>[김진구, 신채연, 팜끼우투, 김경애, 김광식, 김일구, 황원오, 백애경, 조호천,...</td>\n",
              "    </tr>\n",
              "    <tr>\n",
              "      <th>4</th>\n",
              "      <td>유치원생 성폭력 예방</td>\n",
              "      <td>극영화</td>\n",
              "      <td>드라마</td>\n",
              "      <td>2012</td>\n",
              "      <td>김영한</td>\n",
              "      <td>윤혜란</td>\n",
              "      <td>[윤혜란]</td>\n",
              "    </tr>\n",
              "    <tr>\n",
              "      <th>...</th>\n",
              "      <td>...</td>\n",
              "      <td>...</td>\n",
              "      <td>...</td>\n",
              "      <td>...</td>\n",
              "      <td>...</td>\n",
              "      <td>...</td>\n",
              "      <td>...</td>\n",
              "    </tr>\n",
              "    <tr>\n",
              "      <th>8553</th>\n",
              "      <td>조치원 해문이</td>\n",
              "      <td>극영화</td>\n",
              "      <td>드라마</td>\n",
              "      <td>2022</td>\n",
              "      <td>최양현</td>\n",
              "      <td>남윤호,김주연,손병호,김예령</td>\n",
              "      <td>[남윤호, 김주연, 손병호, 김예령]</td>\n",
              "    </tr>\n",
              "    <tr>\n",
              "      <th>8554</th>\n",
              "      <td>Is There A Place To Buy Happiness?</td>\n",
              "      <td>극영화</td>\n",
              "      <td>드라마</td>\n",
              "      <td>2022</td>\n",
              "      <td>김운석</td>\n",
              "      <td>김동규,전승민,조유진</td>\n",
              "      <td>[김동규, 전승민, 조유진]</td>\n",
              "    </tr>\n",
              "    <tr>\n",
              "      <th>8555</th>\n",
              "      <td>그녀가 죽었다</td>\n",
              "      <td>극영화</td>\n",
              "      <td>드라마</td>\n",
              "      <td>2022</td>\n",
              "      <td>김세휘</td>\n",
              "      <td>변요한,신혜선,이엘</td>\n",
              "      <td>[변요한, 신혜선, 이엘]</td>\n",
              "    </tr>\n",
              "    <tr>\n",
              "      <th>8556</th>\n",
              "      <td>탑</td>\n",
              "      <td>극영화</td>\n",
              "      <td>드라마</td>\n",
              "      <td>2022</td>\n",
              "      <td>홍상수</td>\n",
              "      <td>권해효,이혜영,송선미,조윤희,박미소,신석호</td>\n",
              "      <td>[권해효, 이혜영, 송선미, 조윤희, 박미소, 신석호]</td>\n",
              "    </tr>\n",
              "    <tr>\n",
              "      <th>8557</th>\n",
              "      <td>달짝지근해</td>\n",
              "      <td>극영화</td>\n",
              "      <td>드라마</td>\n",
              "      <td>2023</td>\n",
              "      <td>이한</td>\n",
              "      <td>유해진,김희선,차인표,진선규,한선화,정다은</td>\n",
              "      <td>[유해진, 김희선, 차인표, 진선규, 한선화, 정다은]</td>\n",
              "    </tr>\n",
              "  </tbody>\n",
              "</table>\n",
              "<p>8558 rows × 7 columns</p>\n",
              "</div>\n",
              "      <button class=\"colab-df-convert\" onclick=\"convertToInteractive('df-b6d299d6-5268-4fac-a17a-774039d4506e')\"\n",
              "              title=\"Convert this dataframe to an interactive table.\"\n",
              "              style=\"display:none;\">\n",
              "        \n",
              "  <svg xmlns=\"http://www.w3.org/2000/svg\" height=\"24px\"viewBox=\"0 0 24 24\"\n",
              "       width=\"24px\">\n",
              "    <path d=\"M0 0h24v24H0V0z\" fill=\"none\"/>\n",
              "    <path d=\"M18.56 5.44l.94 2.06.94-2.06 2.06-.94-2.06-.94-.94-2.06-.94 2.06-2.06.94zm-11 1L8.5 8.5l.94-2.06 2.06-.94-2.06-.94L8.5 2.5l-.94 2.06-2.06.94zm10 10l.94 2.06.94-2.06 2.06-.94-2.06-.94-.94-2.06-.94 2.06-2.06.94z\"/><path d=\"M17.41 7.96l-1.37-1.37c-.4-.4-.92-.59-1.43-.59-.52 0-1.04.2-1.43.59L10.3 9.45l-7.72 7.72c-.78.78-.78 2.05 0 2.83L4 21.41c.39.39.9.59 1.41.59.51 0 1.02-.2 1.41-.59l7.78-7.78 2.81-2.81c.8-.78.8-2.07 0-2.86zM5.41 20L4 18.59l7.72-7.72 1.47 1.35L5.41 20z\"/>\n",
              "  </svg>\n",
              "      </button>\n",
              "      \n",
              "  <style>\n",
              "    .colab-df-container {\n",
              "      display:flex;\n",
              "      flex-wrap:wrap;\n",
              "      gap: 12px;\n",
              "    }\n",
              "\n",
              "    .colab-df-convert {\n",
              "      background-color: #E8F0FE;\n",
              "      border: none;\n",
              "      border-radius: 50%;\n",
              "      cursor: pointer;\n",
              "      display: none;\n",
              "      fill: #1967D2;\n",
              "      height: 32px;\n",
              "      padding: 0 0 0 0;\n",
              "      width: 32px;\n",
              "    }\n",
              "\n",
              "    .colab-df-convert:hover {\n",
              "      background-color: #E2EBFA;\n",
              "      box-shadow: 0px 1px 2px rgba(60, 64, 67, 0.3), 0px 1px 3px 1px rgba(60, 64, 67, 0.15);\n",
              "      fill: #174EA6;\n",
              "    }\n",
              "\n",
              "    [theme=dark] .colab-df-convert {\n",
              "      background-color: #3B4455;\n",
              "      fill: #D2E3FC;\n",
              "    }\n",
              "\n",
              "    [theme=dark] .colab-df-convert:hover {\n",
              "      background-color: #434B5C;\n",
              "      box-shadow: 0px 1px 3px 1px rgba(0, 0, 0, 0.15);\n",
              "      filter: drop-shadow(0px 1px 2px rgba(0, 0, 0, 0.3));\n",
              "      fill: #FFFFFF;\n",
              "    }\n",
              "  </style>\n",
              "\n",
              "      <script>\n",
              "        const buttonEl =\n",
              "          document.querySelector('#df-b6d299d6-5268-4fac-a17a-774039d4506e button.colab-df-convert');\n",
              "        buttonEl.style.display =\n",
              "          google.colab.kernel.accessAllowed ? 'block' : 'none';\n",
              "\n",
              "        async function convertToInteractive(key) {\n",
              "          const element = document.querySelector('#df-b6d299d6-5268-4fac-a17a-774039d4506e');\n",
              "          const dataTable =\n",
              "            await google.colab.kernel.invokeFunction('convertToInteractive',\n",
              "                                                     [key], {});\n",
              "          if (!dataTable) return;\n",
              "\n",
              "          const docLinkHtml = 'Like what you see? Visit the ' +\n",
              "            '<a target=\"_blank\" href=https://colab.research.google.com/notebooks/data_table.ipynb>data table notebook</a>'\n",
              "            + ' to learn more about interactive tables.';\n",
              "          element.innerHTML = '';\n",
              "          dataTable['output_type'] = 'display_data';\n",
              "          await google.colab.output.renderOutput(dataTable, element);\n",
              "          const docLink = document.createElement('div');\n",
              "          docLink.innerHTML = docLinkHtml;\n",
              "          element.appendChild(docLink);\n",
              "        }\n",
              "      </script>\n",
              "    </div>\n",
              "  </div>\n",
              "  "
            ]
          },
          "metadata": {},
          "execution_count": 14
        }
      ]
    },
    {
      "cell_type": "code",
      "source": [
        "#확인 한번 더\n",
        "\n",
        "print(df.loc[2,'배우분할'])"
      ],
      "metadata": {
        "id": "0kqkd0HYrtES",
        "colab": {
          "base_uri": "https://localhost:8080/"
        },
        "outputId": "22cd073d-f28a-4af5-853f-ed257799cdea"
      },
      "execution_count": null,
      "outputs": [
        {
          "output_type": "stream",
          "name": "stdout",
          "text": [
            "['임수정', '이선균', '류승룡', '이광수', '김효준', '이도아', '김보궁', '염해란', '이새로미', '이진희']\n"
          ]
        }
      ]
    },
    {
      "cell_type": "markdown",
      "source": [
        "#배우 이름으로 영화 검색"
      ],
      "metadata": {
        "id": "zfRv7_c2s8zm"
      }
    },
    {
      "cell_type": "code",
      "source": [
        "#방법 2\n",
        "#'배우분할'열에서 이광수라는 배우 이름이 있을 경우 제작년도, 영화명, 감독 출력\n",
        "\n",
        "for i in range(len(df['actor'])):\n",
        "  if '한지민' in df.loc[i,'배우분할']:\n",
        "    print(df.loc[i,'제작년도'],df.loc[i,'영화명'],df.loc[i,'감독'])"
      ],
      "metadata": {
        "colab": {
          "base_uri": "https://localhost:8080/"
        },
        "id": "yZPHwjPyct9Y",
        "outputId": "526f0144-a6fb-44b1-c4f9-4fa43d247e2a"
      },
      "execution_count": null,
      "outputs": [
        {
          "output_type": "stream",
          "name": "stdout",
          "text": [
            "2013 플랜맨 성시흡\n",
            "2014 역린 이재규\n",
            "2015 장수상회 강제규\n",
            "2016 밀정 김지운\n",
            "2017 미쓰백 이지원\n",
            "2017 두개의 빛: 릴루미노 허진호\n",
            "2019 김복동 송원근\n",
            "2020 조제 김종관\n",
            "2021 해피 뉴 이어 곽재용\n"
          ]
        }
      ]
    }
  ],
  "metadata": {
    "colab": {
      "collapsed_sections": [],
      "provenance": []
    },
    "kernelspec": {
      "display_name": "Python 3",
      "name": "python3"
    },
    "language_info": {
      "name": "python"
    }
  },
  "nbformat": 4,
  "nbformat_minor": 0
}